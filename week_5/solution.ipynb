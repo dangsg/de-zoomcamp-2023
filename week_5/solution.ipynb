{
 "cells": [
  {
   "cell_type": "code",
   "execution_count": 1,
   "id": "c4379a5f",
   "metadata": {},
   "outputs": [],
   "source": [
    "import pyspark\n",
    "from pyspark.sql import SparkSession"
   ]
  },
  {
   "cell_type": "code",
   "execution_count": 2,
   "id": "d59f9e3a",
   "metadata": {},
   "outputs": [
    {
     "name": "stdout",
     "output_type": "stream",
     "text": [
      "23/02/24 14:06:54 WARN Utils: Your hostname, dangsg-mac.local resolves to a loopback address: 127.0.0.1; using 10.0.0.109 instead (on interface en0)\n",
      "23/02/24 14:06:54 WARN Utils: Set SPARK_LOCAL_IP if you need to bind to another address\n"
     ]
    },
    {
     "name": "stderr",
     "output_type": "stream",
     "text": [
      "Setting default log level to \"WARN\".\n",
      "To adjust logging level use sc.setLogLevel(newLevel). For SparkR, use setLogLevel(newLevel).\n"
     ]
    },
    {
     "name": "stdout",
     "output_type": "stream",
     "text": [
      "23/02/24 14:06:54 WARN NativeCodeLoader: Unable to load native-hadoop library for your platform... using builtin-java classes where applicable\n"
     ]
    }
   ],
   "source": [
    "spark = SparkSession.builder \\\n",
    "    .master(\"local[*]\") \\\n",
    "    .appName('test') \\\n",
    "    .getOrCreate()"
   ]
  },
  {
   "cell_type": "code",
   "execution_count": 3,
   "id": "4aa6555a",
   "metadata": {},
   "outputs": [
    {
     "data": {
      "text/plain": [
       "'3.3.2'"
      ]
     },
     "execution_count": 3,
     "metadata": {},
     "output_type": "execute_result"
    }
   ],
   "source": [
    "spark.version"
   ]
  },
  {
   "cell_type": "markdown",
   "id": "fffa17c8",
   "metadata": {},
   "source": [
    "!wget https://github.com/DataTalksClub/nyc-tlc-data/releases/download/fhvhv/fhvhv_tripdata_2021-06.csv.gz"
   ]
  },
  {
   "cell_type": "code",
   "execution_count": 4,
   "id": "36ddd5df",
   "metadata": {},
   "outputs": [],
   "source": [
    "from pyspark.sql import types"
   ]
  },
  {
   "cell_type": "code",
   "execution_count": 5,
   "id": "64627689",
   "metadata": {},
   "outputs": [],
   "source": [
    "schema = types.StructType([\n",
    "    types.StructField('dispatching_base_num', types.StringType(), True),\n",
    "    types.StructField('pickup_datetime', types.TimestampType(), True),\n",
    "    types.StructField('dropoff_datetime', types.TimestampType(), True),\n",
    "    types.StructField('PULocationID', types.IntegerType(), True),\n",
    "    types.StructField('DOLocationID', types.IntegerType(), True),\n",
    "    types.StructField('SR_Flag', types.StringType(), True),\n",
    "    types.StructField('Affiliated_base_number', types.StringType(), True)\n",
    "])"
   ]
  },
  {
   "cell_type": "code",
   "execution_count": 6,
   "id": "5b716cc4",
   "metadata": {},
   "outputs": [],
   "source": [
    "df = spark.read \\\n",
    "    .option(\"header\", \"true\") \\\n",
    "    .schema(schema) \\\n",
    "    .csv('fhvhv_tripdata_2021-06.csv.gz')"
   ]
  },
  {
   "cell_type": "code",
   "execution_count": 10,
   "id": "6e5ee63f",
   "metadata": {},
   "outputs": [
    {
     "name": "stderr",
     "output_type": "stream",
     "text": [
      "\r",
      "[Stage 1:>                                                          (0 + 1) / 1]\r"
     ]
    },
    {
     "name": "stdout",
     "output_type": "stream",
     "text": [
      "23/02/24 14:09:26 WARN MemoryManager: Total allocation exceeds 95.00% (1,020,054,720 bytes) of heap memory\n",
      "Scaling row group sizes to 95.00% for 8 writers\n"
     ]
    },
    {
     "name": "stderr",
     "output_type": "stream",
     "text": [
      "                                                                                \r"
     ]
    }
   ],
   "source": [
    "df.repartition(12).write.parquet(\"data/parquet/\", mode=\"overwrite\")"
   ]
  },
  {
   "cell_type": "code",
   "execution_count": 11,
   "id": "6a186963",
   "metadata": {},
   "outputs": [
    {
     "name": "stdout",
     "output_type": "stream",
     "text": [
      "total 591520\r\n",
      "-rw-r--r--  1 dangsg  staff     0B Feb 24 14:09 _SUCCESS\r\n",
      "-rw-r--r--  1 dangsg  staff    24M Feb 24 14:09 part-00000-caa48919-4414-4d3d-8607-755b13e131cc-c000.snappy.parquet\r\n",
      "-rw-r--r--  1 dangsg  staff    24M Feb 24 14:09 part-00001-caa48919-4414-4d3d-8607-755b13e131cc-c000.snappy.parquet\r\n",
      "-rw-r--r--  1 dangsg  staff    24M Feb 24 14:09 part-00002-caa48919-4414-4d3d-8607-755b13e131cc-c000.snappy.parquet\r\n",
      "-rw-r--r--  1 dangsg  staff    24M Feb 24 14:09 part-00003-caa48919-4414-4d3d-8607-755b13e131cc-c000.snappy.parquet\r\n",
      "-rw-r--r--  1 dangsg  staff    24M Feb 24 14:09 part-00004-caa48919-4414-4d3d-8607-755b13e131cc-c000.snappy.parquet\r\n",
      "-rw-r--r--  1 dangsg  staff    24M Feb 24 14:09 part-00005-caa48919-4414-4d3d-8607-755b13e131cc-c000.snappy.parquet\r\n",
      "-rw-r--r--  1 dangsg  staff    24M Feb 24 14:09 part-00006-caa48919-4414-4d3d-8607-755b13e131cc-c000.snappy.parquet\r\n",
      "-rw-r--r--  1 dangsg  staff    24M Feb 24 14:09 part-00007-caa48919-4414-4d3d-8607-755b13e131cc-c000.snappy.parquet\r\n",
      "-rw-r--r--  1 dangsg  staff    24M Feb 24 14:09 part-00008-caa48919-4414-4d3d-8607-755b13e131cc-c000.snappy.parquet\r\n",
      "-rw-r--r--  1 dangsg  staff    24M Feb 24 14:09 part-00009-caa48919-4414-4d3d-8607-755b13e131cc-c000.snappy.parquet\r\n",
      "-rw-r--r--  1 dangsg  staff    24M Feb 24 14:09 part-00010-caa48919-4414-4d3d-8607-755b13e131cc-c000.snappy.parquet\r\n",
      "-rw-r--r--  1 dangsg  staff    24M Feb 24 14:09 part-00011-caa48919-4414-4d3d-8607-755b13e131cc-c000.snappy.parquet\r\n"
     ]
    }
   ],
   "source": [
    "!ls -lh data/parquet/"
   ]
  },
  {
   "cell_type": "code",
   "execution_count": 23,
   "id": "d4f24c62",
   "metadata": {},
   "outputs": [],
   "source": [
    "from pyspark.sql.functions import to_date, unix_timestamp, max, count"
   ]
  },
  {
   "cell_type": "code",
   "execution_count": 13,
   "id": "0c0d50d7",
   "metadata": {},
   "outputs": [
    {
     "name": "stderr",
     "output_type": "stream",
     "text": [
      "                                                                                \r"
     ]
    },
    {
     "data": {
      "text/plain": [
       "452470"
      ]
     },
     "execution_count": 13,
     "metadata": {},
     "output_type": "execute_result"
    }
   ],
   "source": [
    "df.filter(to_date(df.pickup_datetime) == '2021-06-15').count()"
   ]
  },
  {
   "cell_type": "code",
   "execution_count": 14,
   "id": "ee39bf30",
   "metadata": {},
   "outputs": [],
   "source": [
    "df = df.withColumn(\"duration\", (unix_timestamp(df.dropoff_datetime) - unix_timestamp(df.pickup_datetime)) / 3600)"
   ]
  },
  {
   "cell_type": "code",
   "execution_count": 17,
   "id": "349855f2",
   "metadata": {
    "scrolled": true
   },
   "outputs": [
    {
     "name": "stderr",
     "output_type": "stream",
     "text": [
      "\r",
      "[Stage 7:>                                                          (0 + 1) / 1]\r"
     ]
    },
    {
     "name": "stdout",
     "output_type": "stream",
     "text": [
      "+----------------+\n",
      "|   max(duration)|\n",
      "+----------------+\n",
      "|66.8788888888889|\n",
      "+----------------+\n",
      "\n"
     ]
    },
    {
     "name": "stderr",
     "output_type": "stream",
     "text": [
      "\r",
      "                                                                                \r"
     ]
    }
   ],
   "source": [
    "df.select(max(df.duration)).show()"
   ]
  },
  {
   "cell_type": "markdown",
   "id": "18a8d204",
   "metadata": {},
   "source": [
    "!wget https://github.com/DataTalksClub/nyc-tlc-data/releases/download/misc/taxi_zone_lookup.csv"
   ]
  },
  {
   "cell_type": "code",
   "execution_count": 18,
   "id": "6ba70ef4",
   "metadata": {},
   "outputs": [],
   "source": [
    "df_zones = spark.read \\\n",
    "    .option(\"header\", \"true\") \\\n",
    "    .csv(\"taxi_zone_lookup.csv\")"
   ]
  },
  {
   "cell_type": "code",
   "execution_count": 31,
   "id": "3e8420d5",
   "metadata": {},
   "outputs": [
    {
     "name": "stderr",
     "output_type": "stream",
     "text": [
      "/opt/homebrew/Cellar/apache-spark/3.3.2/libexec/python/pyspark/sql/dataframe.py:229: FutureWarning: Deprecated in 2.0, use createOrReplaceTempView instead.\n",
      "  warnings.warn(\"Deprecated in 2.0, use createOrReplaceTempView instead.\", FutureWarning)\n"
     ]
    }
   ],
   "source": [
    "df.registerTempTable('fhv_trip')"
   ]
  },
  {
   "cell_type": "code",
   "execution_count": 32,
   "id": "0dc36478",
   "metadata": {},
   "outputs": [],
   "source": [
    "df_count_by_zone = spark.sql(\"\"\"\n",
    "    SELECT PULocationID, COUNT(*) as countByZone\n",
    "    FROM fhv_trip\n",
    "    GROUP BY PULocationID\n",
    "    ORDER BY countByZone DESC\n",
    "    LIMIT 1\n",
    "\"\"\")"
   ]
  },
  {
   "cell_type": "code",
   "execution_count": 33,
   "id": "e6f4214d",
   "metadata": {},
   "outputs": [
    {
     "name": "stderr",
     "output_type": "stream",
     "text": [
      "\r",
      "[Stage 22:>                                                         (0 + 1) / 1]\r"
     ]
    },
    {
     "name": "stdout",
     "output_type": "stream",
     "text": [
      "+------------+-----------+\n",
      "|PULocationID|countByZone|\n",
      "+------------+-----------+\n",
      "|          61|     231279|\n",
      "+------------+-----------+\n",
      "\n"
     ]
    },
    {
     "name": "stderr",
     "output_type": "stream",
     "text": [
      "\r",
      "                                                                                \r"
     ]
    }
   ],
   "source": [
    "df_count_by_zone.show()"
   ]
  },
  {
   "cell_type": "code",
   "execution_count": 35,
   "id": "93ba436c",
   "metadata": {},
   "outputs": [
    {
     "name": "stderr",
     "output_type": "stream",
     "text": [
      "\r",
      "[Stage 25:>                                                         (0 + 1) / 1]\r"
     ]
    },
    {
     "name": "stdout",
     "output_type": "stream",
     "text": [
      "+------------+-----------+----------+--------+-------------------+------------+\n",
      "|PULocationID|countByZone|LocationID| Borough|               Zone|service_zone|\n",
      "+------------+-----------+----------+--------+-------------------+------------+\n",
      "|          61|     231279|        61|Brooklyn|Crown Heights North|   Boro Zone|\n",
      "+------------+-----------+----------+--------+-------------------+------------+\n",
      "\n"
     ]
    },
    {
     "name": "stderr",
     "output_type": "stream",
     "text": [
      "\r",
      "                                                                                \r"
     ]
    }
   ],
   "source": [
    "df_count_by_zone.join(df_zones, df_count_by_zone.PULocationID == df_zones.LocationID, how=\"inner\").show()"
   ]
  },
  {
   "cell_type": "code",
   "execution_count": null,
   "id": "6d9ebb65",
   "metadata": {},
   "outputs": [],
   "source": []
  }
 ],
 "metadata": {
  "kernelspec": {
   "display_name": "Python 3 (ipykernel)",
   "language": "python",
   "name": "python3"
  },
  "language_info": {
   "codemirror_mode": {
    "name": "ipython",
    "version": 3
   },
   "file_extension": ".py",
   "mimetype": "text/x-python",
   "name": "python",
   "nbconvert_exporter": "python",
   "pygments_lexer": "ipython3",
   "version": "3.9.16"
  }
 },
 "nbformat": 4,
 "nbformat_minor": 5
}
