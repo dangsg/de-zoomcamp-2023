{
 "cells": [
  {
   "cell_type": "code",
   "execution_count": 1,
   "metadata": {
    "vscode": {
     "languageId": "shellscript"
    }
   },
   "outputs": [
    {
     "name": "stdout",
     "output_type": "stream",
     "text": [
      "13:11:04.544 | \u001b[36mINFO\u001b[0m    | prefect.engine - Created flow run\u001b[35m 'sociable-silkworm'\u001b[0m for flow\u001b[1;35m 'etl-web-to-gcs'\u001b[0m\n",
      "13:11:04.623 | \u001b[36mINFO\u001b[0m    | Flow run\u001b[35m 'sociable-silkworm'\u001b[0m - Created task run 'fetch-b4598a4a-0' for task 'fetch'\n",
      "13:11:04.624 | \u001b[36mINFO\u001b[0m    | Flow run\u001b[35m 'sociable-silkworm'\u001b[0m - Executing 'fetch-b4598a4a-0' immediately...\n",
      "13:11:04.636 | \u001b[36mINFO\u001b[0m    | Task run 'fetch-b4598a4a-0' - Finished in state Cached(type=COMPLETED)\n",
      "13:11:05.050 | \u001b[36mINFO\u001b[0m    | Flow run\u001b[35m 'sociable-silkworm'\u001b[0m - Created task run 'clean-b9fd7e03-0' for task 'clean'\n",
      "13:11:05.050 | \u001b[36mINFO\u001b[0m    | Flow run\u001b[35m 'sociable-silkworm'\u001b[0m - Executing 'clean-b9fd7e03-0' immediately...\n",
      "13:11:05.179 | \u001b[36mINFO\u001b[0m    | Task run 'clean-b9fd7e03-0' -    VendorID lpep_pickup_datetime  ... trip_type congestion_surcharge\n",
      "0       2.0  2019-12-18 15:52:30  ...       1.0                  0.0\n",
      "1       2.0  2020-01-01 00:45:58  ...       2.0                  0.0\n",
      "\n",
      "[2 rows x 20 columns]\n",
      "13:11:05.179 | \u001b[36mINFO\u001b[0m    | Task run 'clean-b9fd7e03-0' - columns: VendorID                        float64\n",
      "lpep_pickup_datetime     datetime64[ns]\n",
      "lpep_dropoff_datetime    datetime64[ns]\n",
      "store_and_fwd_flag               object\n",
      "RatecodeID                      float64\n",
      "PULocationID                      int64\n",
      "DOLocationID                      int64\n",
      "passenger_count                 float64\n",
      "trip_distance                   float64\n",
      "fare_amount                     float64\n",
      "extra                           float64\n",
      "mta_tax                         float64\n",
      "tip_amount                      float64\n",
      "tolls_amount                    float64\n",
      "ehail_fee                       float64\n",
      "improvement_surcharge           float64\n",
      "total_amount                    float64\n",
      "payment_type                    float64\n",
      "trip_type                       float64\n",
      "congestion_surcharge            float64\n",
      "dtype: object\n",
      "13:11:05.180 | \u001b[36mINFO\u001b[0m    | Task run 'clean-b9fd7e03-0' - rows: 447770\n",
      "13:11:05.190 | \u001b[36mINFO\u001b[0m    | Task run 'clean-b9fd7e03-0' - Finished in state \u001b[32mCompleted\u001b[0m()\n",
      "13:11:05.200 | \u001b[36mINFO\u001b[0m    | Flow run\u001b[35m 'sociable-silkworm'\u001b[0m - Created task run 'write_local-f322d1be-0' for task 'write_local'\n",
      "13:11:05.200 | \u001b[36mINFO\u001b[0m    | Flow run\u001b[35m 'sociable-silkworm'\u001b[0m - Executing 'write_local-f322d1be-0' immediately...\n",
      "13:11:05.962 | \u001b[36mINFO\u001b[0m    | Task run 'write_local-f322d1be-0' - Finished in state \u001b[32mCompleted\u001b[0m()\n",
      "13:11:05.971 | \u001b[36mINFO\u001b[0m    | Flow run\u001b[35m 'sociable-silkworm'\u001b[0m - Created task run 'write_gcs-1145c921-0' for task 'write_gcs'\n",
      "13:11:05.971 | \u001b[36mINFO\u001b[0m    | Flow run\u001b[35m 'sociable-silkworm'\u001b[0m - Executing 'write_gcs-1145c921-0' immediately...\n",
      "/Users/dangsg/miniconda3/envs/zoomcamp/lib/python3.9/site-packages/google/auth/_default.py:83: UserWarning: Your application has authenticated using end user credentials from Google Cloud SDK without a quota project. You might receive a \"quota exceeded\" or \"API not enabled\" error. We recommend you rerun `gcloud auth application-default login` and make sure a quota project is added. Or you can use service accounts instead. For more information about service accounts, see https://cloud.google.com/docs/authentication/\n",
      "  warnings.warn(_CLOUD_SDK_CREDENTIALS_WARNING)\n",
      "13:11:06.437 | \u001b[93mWARNING\u001b[0m | google.auth._default - No project ID could be determined. Consider running `gcloud config set project` or setting the GOOGLE_CLOUD_PROJECT environment variable\n",
      "13:11:06.439 | \u001b[36mINFO\u001b[0m    | Task run 'write_gcs-1145c921-0' - Getting bucket 'dtc_data_lake_dtc-de-376507'.\n",
      "/Users/dangsg/miniconda3/envs/zoomcamp/lib/python3.9/site-packages/google/auth/_default.py:83: UserWarning: Your application has authenticated using end user credentials from Google Cloud SDK without a quota project. You might receive a \"quota exceeded\" or \"API not enabled\" error. We recommend you rerun `gcloud auth application-default login` and make sure a quota project is added. Or you can use service accounts instead. For more information about service accounts, see https://cloud.google.com/docs/authentication/\n",
      "  warnings.warn(_CLOUD_SDK_CREDENTIALS_WARNING)\n",
      "13:11:06.768 | \u001b[93mWARNING\u001b[0m | google.auth._default - No project ID could be determined. Consider running `gcloud config set project` or setting the GOOGLE_CLOUD_PROJECT environment variable\n",
      "13:11:07.328 | \u001b[36mINFO\u001b[0m    | Task run 'write_gcs-1145c921-0' - Uploading from PosixPath('data/green/green_tripdata_2020-01.parquet') to the bucket 'dtc_data_lake_dtc-de-376507' path 'data/green/green_tripdata_2020-01.parquet'.\n",
      "13:11:08.900 | \u001b[36mINFO\u001b[0m    | Task run 'write_gcs-1145c921-0' - Finished in state \u001b[32mCompleted\u001b[0m()\n",
      "13:11:08.922 | \u001b[36mINFO\u001b[0m    | Flow run\u001b[35m 'sociable-silkworm'\u001b[0m - Finished in state \u001b[32mCompleted\u001b[0m('All states completed.')\n"
     ]
    }
   ],
   "source": [
    "!python ./flows/02_gcp/etl_web_to_gcs.py\n"
   ]
  },
  {
   "cell_type": "code",
   "execution_count": 4,
   "metadata": {
    "vscode": {
     "languageId": "shellscript"
    }
   },
   "outputs": [
    {
     "name": "stdout",
     "output_type": "stream",
     "text": [
      "\u001b[32mFound flow 'etl-web-to-gcs'\u001b[0m\n",
      "\u001b[32mDeployment YAML created at \u001b[0m\n",
      "\u001b[32m'/Users/dangsg/data-engineer/prefect-zoomcamp/etl_web_to_gcs-deployment.yaml'.\u001b[0m\n",
      "\u001b[32mDeployment storage None does not have upload capabilities; no files uploaded.  \u001b[0m\n",
      "\u001b[32mPass --skip-upload to suppress this warning.\u001b[0m\n",
      "\u001b[32mDeployment 'etl-web-to-gcs/w2_q2' successfully created with id \u001b[0m\n",
      "\u001b[32m'b6e1e396-78e2-4104-89e4-52da6e23c26a'.\u001b[0m\n",
      "\n",
      "To execute flow runs from this deployment, start an agent that pulls work from \n",
      "the 'default' work queue:\n",
      "\u001b[34m$ prefect agent start -q 'default'\u001b[0m\n"
     ]
    }
   ],
   "source": [
    "!prefect deployment build flows/02_gcp/etl_web_to_gcs.py:etl_web_to_gcs -n w2_q2 --cron \"0 5 1 * *\" -a"
   ]
  },
  {
   "cell_type": "code",
   "execution_count": 7,
   "metadata": {
    "vscode": {
     "languageId": "shellscript"
    }
   },
   "outputs": [
    {
     "name": "stdout",
     "output_type": "stream",
     "text": [
      "\u001b[32mFound flow 'main-flow'\u001b[0m\n",
      "\u001b[32mDeployment YAML created at \u001b[0m\n",
      "\u001b[32m'/Users/dangsg/data-engineer/prefect-zoomcamp/main_flow-deployment.yaml'.\u001b[0m\n",
      "\u001b[32mDeployment storage None does not have upload capabilities; no files uploaded.  \u001b[0m\n",
      "\u001b[32mPass --skip-upload to suppress this warning.\u001b[0m\n",
      "\u001b[32mDeployment 'main-flow/w2_q3' successfully created with id \u001b[0m\n",
      "\u001b[32m'f3dde283-f4af-490f-9386-68f57c576f8b'.\u001b[0m\n",
      "\n",
      "To execute flow runs from this deployment, start an agent that pulls work from \n",
      "the 'default' work queue:\n",
      "\u001b[34m$ prefect agent start -q 'default'\u001b[0m\n"
     ]
    }
   ],
   "source": [
    "!prefect deployment build flows/02_gcp/etl_gcs_to_bq.py:main_flow -n w2_q3 -a"
   ]
  },
  {
   "cell_type": "code",
   "execution_count": 11,
   "metadata": {
    "vscode": {
     "languageId": "shellscript"
    }
   },
   "outputs": [
    {
     "name": "stdout",
     "output_type": "stream",
     "text": [
      "Creating flow run for deployment 'main-flow/w2_q3'...\n",
      "Created flow run 'ingenious-gazelle'.\n",
      "└── UUID: b8d04748-61f4-429f-b6de-a09d90908e5e\n",
      "└── Parameters: {}\n",
      "└── Scheduled start time: 2023-02-05 16:03:13 +07 (now)\n",
      "└── URL: \n",
      "http://127.0.0.1:4200/flow-runs/flow-run/b8d04748-61f4-429f-b6de-a09d90908e5e\n"
     ]
    }
   ],
   "source": [
    "!prefect deployment run main-flow/w2_q3"
   ]
  },
  {
   "cell_type": "code",
   "execution_count": 19,
   "metadata": {
    "vscode": {
     "languageId": "shellscript"
    }
   },
   "outputs": [
    {
     "name": "stdout",
     "output_type": "stream",
     "text": [
      "\u001b[32mFound flow 'etl-web-to-gcs'\u001b[0m\n",
      "\u001b[32mDeployment YAML created at \u001b[0m\n",
      "\u001b[32m'/Users/dangsg/data-engineer/de-zoomcamp-2023-solution/week_2/prefect-zoomcamp/e\u001b[0m\n",
      "\u001b[32mtl_web_to_gcs-deployment.yaml'.\u001b[0m\n",
      "\u001b[32mDeployment storage \u001b[0m\n",
      "\u001b[32mGitHub(repository='git@github.com:dangsg/de-zoomcamp-2023-solution.git', \u001b[0m\n",
      "\u001b[32mreference=None, access_token=None) does not have upload capabilities; no files \u001b[0m\n",
      "\u001b[32muploaded.  Pass --skip-upload to suppress this warning.\u001b[0m\n",
      "\u001b[32mDeployment 'etl-web-to-gcs/github-flow' successfully created with id \u001b[0m\n",
      "\u001b[32m'b94dab4e-4ec8-4f97-b10a-0c4b34ea9450'.\u001b[0m\n",
      "\n",
      "To execute flow runs from this deployment, start an agent that pulls work from \n",
      "the 'default' work queue:\n",
      "\u001b[34m$ prefect agent start -q 'default'\u001b[0m\n"
     ]
    }
   ],
   "source": [
    "!python flows/03_deployments/github_deploy.py\n",
    "!prefect deployment build week_2/prefect-zoomcamp/flows/02_gcp/etl_web_to_gcs.py:etl_web_to_gcs --name \"github-flow\" -sb github/github-block -a"
   ]
  },
  {
   "cell_type": "code",
   "execution_count": 15,
   "metadata": {
    "vscode": {
     "languageId": "shellscript"
    }
   },
   "outputs": [
    {
     "name": "stdout",
     "output_type": "stream",
     "text": [
      "Creating flow run for deployment 'etl-web-to-gcs/github-flow'...\n",
      "Created flow run 'brass-peccary'.\n",
      "└── UUID: 5515656f-749a-47d9-978b-1254a6216331\n",
      "└── Parameters: {'color': 'green', 'month': 11, 'year': 2020}\n",
      "└── Scheduled start time: 2023-02-06 15:29:49 +07 (now)\n",
      "└── URL: \n",
      "http://127.0.0.1:4200/flow-runs/flow-run/5515656f-749a-47d9-978b-1254a6216331\n"
     ]
    }
   ],
   "source": [
    "!prefect deployment run etl-web-to-gcs/github-flow --params='{\"color\":\"green\", \"month\":11, \"year\":2020}'"
   ]
  },
  {
   "cell_type": "code",
   "execution_count": 20,
   "metadata": {
    "vscode": {
     "languageId": "shellscript"
    }
   },
   "outputs": [
    {
     "name": "stdout",
     "output_type": "stream",
     "text": [
      "Creating flow run for deployment 'etl-web-to-gcs/github-flow'...\n",
      "Created flow run 'feathered-husky'.\n",
      "└── UUID: 1ee65168-076a-43d5-a1ba-73fd17156180\n",
      "└── Parameters: {'color': 'green', 'month': 4, 'year': 2019}\n",
      "└── Scheduled start time: 2023-02-06 16:02:50 +07 (now)\n",
      "└── URL: \n",
      "http://127.0.0.1:4200/flow-runs/flow-run/1ee65168-076a-43d5-a1ba-73fd17156180\n"
     ]
    }
   ],
   "source": [
    "!prefect deployment run etl-web-to-gcs/github-flow --params='{\"color\":\"green\", \"month\":4, \"year\":2019}'"
   ]
  }
 ],
 "metadata": {
  "kernelspec": {
   "display_name": "zoomcamp",
   "language": "python",
   "name": "python3"
  },
  "language_info": {
   "codemirror_mode": {
    "name": "ipython",
    "version": 3
   },
   "file_extension": ".py",
   "mimetype": "text/x-python",
   "name": "python",
   "nbconvert_exporter": "python",
   "pygments_lexer": "ipython3",
   "version": "3.9.16"
  },
  "orig_nbformat": 4,
  "vscode": {
   "interpreter": {
    "hash": "92139a1624c4b9c643bcd3e0084d52d316ea58d91b0832790ee1b50d4f7cc6a0"
   }
  }
 },
 "nbformat": 4,
 "nbformat_minor": 2
}
